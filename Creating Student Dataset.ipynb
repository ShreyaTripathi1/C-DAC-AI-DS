{
 "cells": [
  {
   "cell_type": "code",
   "execution_count": 4,
   "id": "ec754336",
   "metadata": {},
   "outputs": [
    {
     "name": "stdout",
     "output_type": "stream",
     "text": [
      "Collecting faker\n",
      "  Downloading Faker-35.0.0-py3-none-any.whl (1.9 MB)\n",
      "     ---------------------------------------- 1.9/1.9 MB 16.4 kB/s eta 0:00:00\n",
      "Requirement already satisfied: python-dateutil>=2.4 in c:\\users\\user\\anaconda3\\lib\\site-packages (from faker) (2.8.2)\n",
      "Requirement already satisfied: typing-extensions in c:\\users\\user\\anaconda3\\lib\\site-packages (from faker) (4.12.2)\n",
      "Requirement already satisfied: six>=1.5 in c:\\users\\user\\anaconda3\\lib\\site-packages (from python-dateutil>=2.4->faker) (1.16.0)\n",
      "Installing collected packages: faker\n",
      "Successfully installed faker-35.0.0\n"
     ]
    },
    {
     "name": "stderr",
     "output_type": "stream",
     "text": [
      "WARNING: Ignoring invalid distribution -illow (c:\\users\\user\\anaconda3\\lib\\site-packages)\n",
      "WARNING: Ignoring invalid distribution -illow (c:\\users\\user\\anaconda3\\lib\\site-packages)\n",
      "WARNING: Ignoring invalid distribution -illow (c:\\users\\user\\anaconda3\\lib\\site-packages)\n",
      "WARNING: Ignoring invalid distribution -illow (c:\\users\\user\\anaconda3\\lib\\site-packages)\n",
      "WARNING: Ignoring invalid distribution -illow (c:\\users\\user\\anaconda3\\lib\\site-packages)\n",
      "WARNING: Ignoring invalid distribution -illow (c:\\users\\user\\anaconda3\\lib\\site-packages)\n",
      "WARNING: Ignoring invalid distribution -illow (c:\\users\\user\\anaconda3\\lib\\site-packages)\n"
     ]
    }
   ],
   "source": [
    "!pip install faker"
   ]
  },
  {
   "cell_type": "code",
   "execution_count": 21,
   "id": "f9990681",
   "metadata": {},
   "outputs": [],
   "source": [
    "import random\n",
    "\n",
    "from faker import Faker\n",
    "import pandas as pd\n",
    "\n",
    "def generate_student_data(num_students):\n",
    "    fake = Faker()\n",
    "    s_data = []\n",
    "\n",
    "    for i in range(num_students):\n",
    "        name = fake.name()\n",
    "        age = random.randint(17, 21)\n",
    "        roll_no = f\"R{i+1:03}\"\n",
    "\n",
    "        eng = random.randint(0, 100)\n",
    "        maths = random.randint(0, 100)\n",
    "        science = random.randint(0, 100)\n",
    "\n",
    "        student = {\n",
    "            'Name : ': name,\n",
    "            'Age : ': age,\n",
    "            'Roll_no : ': roll_no,\n",
    "            'English : ': eng,\n",
    "            'Maths : ': maths,\n",
    "            'Science : ': science,\n",
    "        }\n",
    "\n",
    "        s_data.append(student)\n",
    "    \n",
    "    return pd.DataFrame(s_data)  # Returning DataFrame"
   ]
  },
  {
   "cell_type": "code",
   "execution_count": 25,
   "id": "b5e7d228",
   "metadata": {},
   "outputs": [
    {
     "name": "stdout",
     "output_type": "stream",
     "text": [
      "Student data saved to student_data.csv\n"
     ]
    }
   ],
   "source": [
    "num_students = 50\n",
    "df = generate_student_data(num_students)\n",
    "\n",
    "# Save to CSV\n",
    "df.to_csv(\"student_data.csv\", index=False)\n",
    "print(\"Student data saved to student_data.csv\")"
   ]
  },
  {
   "cell_type": "markdown",
   "id": "533735b9",
   "metadata": {},
   "source": [
    "## Verification:"
   ]
  },
  {
   "cell_type": "code",
   "execution_count": 27,
   "id": "dbf3ef2a",
   "metadata": {},
   "outputs": [],
   "source": [
    "data = pd.read_csv('student_data.csv')"
   ]
  },
  {
   "cell_type": "code",
   "execution_count": 28,
   "id": "a079a392",
   "metadata": {},
   "outputs": [
    {
     "data": {
      "text/html": [
       "<div>\n",
       "<style scoped>\n",
       "    .dataframe tbody tr th:only-of-type {\n",
       "        vertical-align: middle;\n",
       "    }\n",
       "\n",
       "    .dataframe tbody tr th {\n",
       "        vertical-align: top;\n",
       "    }\n",
       "\n",
       "    .dataframe thead th {\n",
       "        text-align: right;\n",
       "    }\n",
       "</style>\n",
       "<table border=\"1\" class=\"dataframe\">\n",
       "  <thead>\n",
       "    <tr style=\"text-align: right;\">\n",
       "      <th></th>\n",
       "      <th>Name :</th>\n",
       "      <th>Age :</th>\n",
       "      <th>Roll_no :</th>\n",
       "      <th>English :</th>\n",
       "      <th>Maths :</th>\n",
       "      <th>Science :</th>\n",
       "    </tr>\n",
       "  </thead>\n",
       "  <tbody>\n",
       "    <tr>\n",
       "      <th>0</th>\n",
       "      <td>Melissa Castro</td>\n",
       "      <td>17</td>\n",
       "      <td>R001</td>\n",
       "      <td>56</td>\n",
       "      <td>35</td>\n",
       "      <td>1</td>\n",
       "    </tr>\n",
       "    <tr>\n",
       "      <th>1</th>\n",
       "      <td>Rebecca Rogers</td>\n",
       "      <td>21</td>\n",
       "      <td>R002</td>\n",
       "      <td>85</td>\n",
       "      <td>59</td>\n",
       "      <td>79</td>\n",
       "    </tr>\n",
       "    <tr>\n",
       "      <th>2</th>\n",
       "      <td>Deborah Williams</td>\n",
       "      <td>21</td>\n",
       "      <td>R003</td>\n",
       "      <td>53</td>\n",
       "      <td>5</td>\n",
       "      <td>52</td>\n",
       "    </tr>\n",
       "    <tr>\n",
       "      <th>3</th>\n",
       "      <td>Lindsey Price</td>\n",
       "      <td>20</td>\n",
       "      <td>R004</td>\n",
       "      <td>10</td>\n",
       "      <td>53</td>\n",
       "      <td>61</td>\n",
       "    </tr>\n",
       "    <tr>\n",
       "      <th>4</th>\n",
       "      <td>Kristen Tran</td>\n",
       "      <td>17</td>\n",
       "      <td>R005</td>\n",
       "      <td>100</td>\n",
       "      <td>94</td>\n",
       "      <td>91</td>\n",
       "    </tr>\n",
       "  </tbody>\n",
       "</table>\n",
       "</div>"
      ],
      "text/plain": [
       "            Name :   Age :  Roll_no :   English :   Maths :   Science : \n",
       "0    Melissa Castro      17       R001          56        35           1\n",
       "1    Rebecca Rogers      21       R002          85        59          79\n",
       "2  Deborah Williams      21       R003          53         5          52\n",
       "3     Lindsey Price      20       R004          10        53          61\n",
       "4      Kristen Tran      17       R005         100        94          91"
      ]
     },
     "execution_count": 28,
     "metadata": {},
     "output_type": "execute_result"
    }
   ],
   "source": [
    "data.head()"
   ]
  },
  {
   "cell_type": "code",
   "execution_count": 29,
   "id": "a2d7ade8",
   "metadata": {},
   "outputs": [
    {
     "data": {
      "text/html": [
       "<div>\n",
       "<style scoped>\n",
       "    .dataframe tbody tr th:only-of-type {\n",
       "        vertical-align: middle;\n",
       "    }\n",
       "\n",
       "    .dataframe tbody tr th {\n",
       "        vertical-align: top;\n",
       "    }\n",
       "\n",
       "    .dataframe thead th {\n",
       "        text-align: right;\n",
       "    }\n",
       "</style>\n",
       "<table border=\"1\" class=\"dataframe\">\n",
       "  <thead>\n",
       "    <tr style=\"text-align: right;\">\n",
       "      <th></th>\n",
       "      <th>Age :</th>\n",
       "      <th>English :</th>\n",
       "      <th>Maths :</th>\n",
       "      <th>Science :</th>\n",
       "    </tr>\n",
       "  </thead>\n",
       "  <tbody>\n",
       "    <tr>\n",
       "      <th>count</th>\n",
       "      <td>50.000000</td>\n",
       "      <td>50.000000</td>\n",
       "      <td>50.000000</td>\n",
       "      <td>50.000000</td>\n",
       "    </tr>\n",
       "    <tr>\n",
       "      <th>mean</th>\n",
       "      <td>18.900000</td>\n",
       "      <td>47.580000</td>\n",
       "      <td>50.940000</td>\n",
       "      <td>48.940000</td>\n",
       "    </tr>\n",
       "    <tr>\n",
       "      <th>std</th>\n",
       "      <td>1.488048</td>\n",
       "      <td>29.398799</td>\n",
       "      <td>28.332868</td>\n",
       "      <td>30.688301</td>\n",
       "    </tr>\n",
       "    <tr>\n",
       "      <th>min</th>\n",
       "      <td>17.000000</td>\n",
       "      <td>0.000000</td>\n",
       "      <td>1.000000</td>\n",
       "      <td>0.000000</td>\n",
       "    </tr>\n",
       "    <tr>\n",
       "      <th>25%</th>\n",
       "      <td>18.000000</td>\n",
       "      <td>21.750000</td>\n",
       "      <td>34.250000</td>\n",
       "      <td>21.500000</td>\n",
       "    </tr>\n",
       "    <tr>\n",
       "      <th>50%</th>\n",
       "      <td>19.000000</td>\n",
       "      <td>49.500000</td>\n",
       "      <td>51.500000</td>\n",
       "      <td>51.000000</td>\n",
       "    </tr>\n",
       "    <tr>\n",
       "      <th>75%</th>\n",
       "      <td>20.000000</td>\n",
       "      <td>69.000000</td>\n",
       "      <td>72.250000</td>\n",
       "      <td>76.000000</td>\n",
       "    </tr>\n",
       "    <tr>\n",
       "      <th>max</th>\n",
       "      <td>21.000000</td>\n",
       "      <td>100.000000</td>\n",
       "      <td>98.000000</td>\n",
       "      <td>100.000000</td>\n",
       "    </tr>\n",
       "  </tbody>\n",
       "</table>\n",
       "</div>"
      ],
      "text/plain": [
       "          Age :   English :    Maths :   Science : \n",
       "count  50.000000   50.000000  50.000000   50.000000\n",
       "mean   18.900000   47.580000  50.940000   48.940000\n",
       "std     1.488048   29.398799  28.332868   30.688301\n",
       "min    17.000000    0.000000   1.000000    0.000000\n",
       "25%    18.000000   21.750000  34.250000   21.500000\n",
       "50%    19.000000   49.500000  51.500000   51.000000\n",
       "75%    20.000000   69.000000  72.250000   76.000000\n",
       "max    21.000000  100.000000  98.000000  100.000000"
      ]
     },
     "execution_count": 29,
     "metadata": {},
     "output_type": "execute_result"
    }
   ],
   "source": [
    "data.describe()"
   ]
  },
  {
   "cell_type": "markdown",
   "id": "df71d13f",
   "metadata": {},
   "source": [
    "# Performing few operations"
   ]
  },
  {
   "cell_type": "code",
   "execution_count": 30,
   "id": "94d0deb2",
   "metadata": {},
   "outputs": [],
   "source": [
    "import pandas as pd\n",
    "\n",
    "# Load the dataset\n",
    "data = pd.read_csv('student_data.csv')"
   ]
  },
  {
   "cell_type": "code",
   "execution_count": 31,
   "id": "b0d21e30",
   "metadata": {},
   "outputs": [],
   "source": [
    "\n",
    "# 1. List of students aged > 20\n",
    "students_above_20 = data[data['Age : '] > 20]\n",
    "students_above_20.to_csv('result1.csv', index=False)"
   ]
  },
  {
   "cell_type": "code",
   "execution_count": 32,
   "id": "c62422da",
   "metadata": {},
   "outputs": [],
   "source": [
    "\n",
    "# 2. Students with 60 marks and above in Maths\n",
    "students_above_60_maths = data[data['Maths : '] >= 60]\n",
    "students_above_60_maths.to_csv('result2.csv', index=False)\n"
   ]
  },
  {
   "cell_type": "code",
   "execution_count": 33,
   "id": "87be111d",
   "metadata": {},
   "outputs": [],
   "source": [
    "\n",
    "# 3. Average score of the class for all 3 subjects\n",
    "average_scores = pd.DataFrame({\n",
    "    \"Subject\": [\"English\", \"Maths\", \"Science\"],\n",
    "    \"Average Score\": [data['English : '].mean(), data['Maths : '].mean(), data['Science : '].mean()]\n",
    "})\n",
    "average_scores.to_csv('result3.csv', index=False)\n"
   ]
  },
  {
   "cell_type": "code",
   "execution_count": 35,
   "id": "07db39fe",
   "metadata": {},
   "outputs": [
    {
     "name": "stdout",
     "output_type": "stream",
     "text": [
      "Top performers saved to result4.csv\n"
     ]
    }
   ],
   "source": [
    "# 4. Top performers in all 3 subjects without .loc, .idxmax(), or .iloc\n",
    "top_performers = []\n",
    "\n",
    "for subject in [\"English : \", \"Maths : \", \"Science : \"]:\n",
    "    max_score = data[subject].max()  # Find the maximum score\n",
    "    top_student = data[data[subject] == max_score][\"Name : \"].values[0]  # Get top student's name\n",
    "    top_performers.append([subject.strip(\" :\"), top_student, max_score])\n",
    "\n",
    "# Convert to DataFrame and save\n",
    "pd.DataFrame(top_performers, columns=[\"Subject\", \"Top Student\", \"Score\"]).to_csv('result4.csv', index=False)\n",
    "\n",
    "print(\"Top performers saved to result4.csv\")\n"
   ]
  },
  {
   "cell_type": "markdown",
   "id": "14628ac8",
   "metadata": {},
   "source": [
    "## OR\n",
    "```py\n",
    "# 4. Top performers in all 3 subjects\n",
    "top_performers = pd.DataFrame({\n",
    "    \"Subject\": [\"English\", \"Maths\", \"Science\"],\n",
    "    \"Top Student\": [\n",
    "        data.loc[data['English : '].idxmax(), 'Name : '],\n",
    "        data.loc[data['Maths : '].idxmax(), 'Name : '],\n",
    "        data.loc[data['Science : '].idxmax(), 'Name : ']\n",
    "    ],\n",
    "    \"Score\": [\n",
    "        data['English : '].max(),\n",
    "        data['Maths : '].max(),\n",
    "        data['Science : '].max()\n",
    "    ]\n",
    "})\n",
    "top_performers.to_csv('result4.csv', index=False)\n",
    "```\n",
    "\n",
    "## OR\n",
    "```py\n",
    "\n",
    "# 4. Top performers in all 3 subjects without using idxmax()\n",
    "top_performers = pd.DataFrame()\n",
    "\n",
    "subjects = [\"English : \", \"Maths : \", \"Science : \"]\n",
    "\n",
    "top_students = []\n",
    "scores = []\n",
    "subject_names = []\n",
    "\n",
    "for subject in subjects:\n",
    "    top_student = data[data[subject] == data[subject].max()]\n",
    "    top_students.append(top_student.iloc[0]['Name : '])  # Get top student's name\n",
    "    scores.append(top_student.iloc[0][subject])  # Get top student's score\n",
    "    subject_names.append(subject.strip(\" :\"))  # Clean column name\n",
    "\n",
    "top_performers[\"Subject\"] = subject_names\n",
    "top_performers[\"Top Student\"] = top_students\n",
    "top_performers[\"Score\"] = scores\n",
    "\n",
    "# Save to CSV\n",
    "top_performers.to_csv('result4.csv', index=False)\n",
    "print(\"Top performers saved to result4.csv\")\n",
    "```"
   ]
  },
  {
   "cell_type": "code",
   "execution_count": 38,
   "id": "75d3de76",
   "metadata": {},
   "outputs": [],
   "source": [
    "# Get students above a given age\n",
    "def students_above_age(filename, age_threshold):\n",
    "    data = pd.read_csv(filename)\n",
    "    result = data[data['Age : '] > age_threshold]\n",
    "    result.to_csv('result01.csv', index=False)\n",
    "    print(f\"Students older than {age_threshold} saved to result01.csv\")\n",
    "\n",
    "# Get students with marks >= threshold in a given subject\n",
    "def students_above_marks(filename, subject, marks_threshold):\n",
    "    data = pd.read_csv(filename)\n",
    "    result = data[data[subject] >= marks_threshold]\n",
    "    result.to_csv('result02.csv', index=False)\n",
    "    print(f\"Students with {marks_threshold}+ marks in {subject} saved to result02.csv\")\n",
    "\n",
    "# Calculate and save the average score for all subjects\n",
    "def average_scores(filename):\n",
    "    data = pd.read_csv(filename)\n",
    "    avg_scores = pd.DataFrame({\n",
    "        \"Subject\": [\"English\", \"Maths\", \"Science\"],\n",
    "        \"Average Score\": [data['English : '].mean(), data['Maths : '].mean(), data['Science : '].mean()]\n",
    "    })\n",
    "    avg_scores.to_csv('result03.csv', index=False)\n",
    "    print(\"Class average scores saved to result03.csv\")\n",
    "\n",
    "# Find and save top performers in all subjects\n",
    "def top_performers(filename):\n",
    "    data = pd.read_csv(filename)\n",
    "    top_students = [\n",
    "        [subject.strip(\" :\"), data[data[subject] == data[subject].max()][\"Name : \"].values[0], data[subject].max()]\n",
    "        for subject in [\"English : \", \"Maths : \", \"Science : \"]\n",
    "    ]\n",
    "    pd.DataFrame(top_students, columns=[\"Subject\", \"Top Student\", \"Score\"]).to_csv('result04.csv', index=False)\n",
    "    print(\"Top performers saved to result04.csv\")\n"
   ]
  },
  {
   "cell_type": "code",
   "execution_count": 40,
   "id": "149cf206",
   "metadata": {},
   "outputs": [
    {
     "name": "stdout",
     "output_type": "stream",
     "text": [
      "Students older than 20 saved to result01.csv\n",
      "Students with 60+ marks in Maths :  saved to result02.csv\n",
      "Class average scores saved to result03.csv\n",
      "Top performers saved to result04.csv\n"
     ]
    }
   ],
   "source": [
    "\n",
    "# Calling functions separately\n",
    "students_above_age('student_data.csv', age_threshold=20)\n",
    "students_above_marks('student_data.csv', 'Maths : ', 60)\n",
    "average_scores('student_data.csv')\n",
    "top_performers('student_data.csv')\n"
   ]
  },
  {
   "cell_type": "code",
   "execution_count": 41,
   "id": "70504905",
   "metadata": {},
   "outputs": [
    {
     "name": "stdout",
     "output_type": "stream",
     "text": [
      "Students with 90+ marks in Science :  saved to result02.csv\n"
     ]
    }
   ],
   "source": [
    "# this makes code reusable and we can use it for other purpose also!\n",
    "\n",
    "students_above_marks('student_data.csv', 'Science : ', 90)\n"
   ]
  },
  {
   "cell_type": "code",
   "execution_count": null,
   "id": "157d761c",
   "metadata": {},
   "outputs": [],
   "source": []
  }
 ],
 "metadata": {
  "kernelspec": {
   "display_name": "Python 3 (ipykernel)",
   "language": "python",
   "name": "python3"
  },
  "language_info": {
   "codemirror_mode": {
    "name": "ipython",
    "version": 3
   },
   "file_extension": ".py",
   "mimetype": "text/x-python",
   "name": "python",
   "nbconvert_exporter": "python",
   "pygments_lexer": "ipython3",
   "version": "3.10.9"
  }
 },
 "nbformat": 4,
 "nbformat_minor": 5
}
